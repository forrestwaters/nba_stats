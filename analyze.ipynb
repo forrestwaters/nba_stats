{
 "cells": [
  {
   "cell_type": "code",
   "execution_count": null,
   "metadata": {
    "collapsed": true
   },
   "outputs": [],
   "source": [
    "import records\n",
    "import numpy as np\n",
    "import pandas as pd\n",
    "import matplotlib.pyplot as plt\n",
    "import seaborn as sns\n",
    "\n",
    "pd.options.display.max_columns = 12\n",
    "sns.set()\n",
    "%config InlineBackend.figure_format = 'svg'\n",
    "%matplotlib inline\n",
    "\n",
    "DB_NAME = 'nbastats.db'\n",
    "\n",
    "db = records.Database('sqlite:///{}'.format(DB_NAME))\n",
    "players = db.query('select br_name from players')\n",
    "\n",
    "all_stats = db.query(\n",
    "    'select name, mp, fg, fga, fg_pct, fg3, fg3_pct, ft, fta, ft_pct, orb, drb, trb, ast, stl, blk,tov, pts from stats')\n",
    "mydf = all_stats.export('df')\n",
    "\n",
    "features = ['mp', 'pts']\n",
    "\n",
    "mydf[features].hist(figsize=(12, 4));"
   ]
  }
 ],
 "metadata": {
  "kernelspec": {
   "display_name": "Python 2",
   "language": "python",
   "name": "python2"
  },
  "language_info": {
   "codemirror_mode": {
    "name": "ipython",
    "version": 2
   },
   "file_extension": ".py",
   "mimetype": "text/x-python",
   "name": "python",
   "nbconvert_exporter": "python",
   "pygments_lexer": "ipython2",
   "version": "2.7.6"
  }
 },
 "nbformat": 4,
 "nbformat_minor": 0
}
